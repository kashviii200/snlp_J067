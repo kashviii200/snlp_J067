{
 "cells": [
  {
   "cell_type": "code",
   "execution_count": 7,
   "id": "60aca0fd",
   "metadata": {},
   "outputs": [
    {
     "name": "stdout",
     "output_type": "stream",
     "text": [
      "30/11/2022\n"
     ]
    }
   ],
   "source": [
    "import re\n",
    "\n",
    "def parse_date(text):\n",
    "    # Define regex patterns for matching dates\n",
    "    day_pattern = r'\\b(\\d{1,2})(?:st|nd|rd|th)?\\b'\n",
    "    month_pattern = r'\\b(January|February|March|April|May|June|July|August|September|October|November|December)\\b'\n",
    "    year_pattern = r'\\b(\\d{4})\\b'\n",
    "\n",
    "    # Define month mappings\n",
    "    months = {\n",
    "        'January': '01', 'February': '02', 'March': '03', 'April': '04',\n",
    "        'May': '05', 'June': '06', 'July': '07', 'August': '08',\n",
    "        'September': '09', 'October': '10', 'November': '11', 'December': '12'\n",
    "    }\n",
    "\n",
    "    # Search for date components in the text\n",
    "    day_match = re.search(day_pattern, text)\n",
    "    month_match = re.search(month_pattern, text)\n",
    "    year_match = re.search(year_pattern, text)\n",
    "\n",
    "    if not day_match or not month_match or not year_match:\n",
    "        return \"No date found\"\n",
    "\n",
    "    # Extract components\n",
    "    day = day_match.group(1).zfill(2)\n",
    "    month_name = month_match.group(1)\n",
    "    year = year_match.group(1)\n",
    "\n",
    "    # Convert month name to month number\n",
    "    month = months.get(month_name, '00')  # Default to '00' if month not found\n",
    "\n",
    "    # Format and return the date\n",
    "    return f\"{day}/{month}/{year}\"\n",
    "\n",
    "# Example usage\n",
    "text = \"The final date for submission is 30th November 2022.\"\n",
    "print(parse_date(text))  \n"
   ]
  },
  {
   "cell_type": "code",
   "execution_count": null,
   "id": "cb38fa60",
   "metadata": {},
   "outputs": [],
   "source": []
  }
 ],
 "metadata": {
  "kernelspec": {
   "display_name": "Python 3 (ipykernel)",
   "language": "python",
   "name": "python3"
  },
  "language_info": {
   "codemirror_mode": {
    "name": "ipython",
    "version": 3
   },
   "file_extension": ".py",
   "mimetype": "text/x-python",
   "name": "python",
   "nbconvert_exporter": "python",
   "pygments_lexer": "ipython3",
   "version": "3.12.4"
  }
 },
 "nbformat": 4,
 "nbformat_minor": 5
}
